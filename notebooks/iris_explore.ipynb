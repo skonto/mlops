{
 "cells": [
  {
   "cell_type": "markdown",
   "id": "0e368e66-8a2b-4eb9-b016-82ebd4fba3f2",
   "metadata": {},
   "source": [
    "# Iris Dataset Notebook"
   ]
  },
  {
   "cell_type": "markdown",
   "id": "7a17a7e2-6397-4dff-94b4-029d869e7200",
   "metadata": {},
   "source": [
    "A] **Let's load first the Iris dataset and explore a bit. We will use the dataset directly (we could also use the scikit-learn one).**\n",
    "\n",
    "Fisher, R. (1936). Iris [Dataset]. UCI Machine Learning Repository. https://doi.org/10.24432/C56C76.\n",
    "\n",
    "<br>\n"
   ]
  },
  {
   "cell_type": "code",
   "execution_count": 1,
   "id": "10362499-0aa8-432c-ac89-1fb97d57f31c",
   "metadata": {
    "scrolled": true
   },
   "outputs": [
    {
     "name": "stdout",
     "output_type": "stream",
     "text": [
      "\u001b[2K\u001b[2mResolved \u001b[1m156 packages\u001b[0m \u001b[2min 1.84s\u001b[0m\u001b[0m                                       \u001b[0m\n",
      "\u001b[2K\u001b[2mPrepared \u001b[1m6 packages\u001b[0m \u001b[2min 38.03s\u001b[0m\u001b[0m                                            \n",
      "\u001b[2K\u001b[2mInstalled \u001b[1m77 packages\u001b[0m \u001b[2min 506ms\u001b[0m\u001b[0m                              \u001b[0m\n",
      " \u001b[32m+\u001b[39m \u001b[1malembic\u001b[0m\u001b[2m==1.16.2\u001b[0m\n",
      " \u001b[32m+\u001b[39m \u001b[1mannotated-types\u001b[0m\u001b[2m==0.7.0\u001b[0m\n",
      " \u001b[32m+\u001b[39m \u001b[1mastroid\u001b[0m\u001b[2m==3.3.11\u001b[0m\n",
      " \u001b[32m+\u001b[39m \u001b[1mblinker\u001b[0m\u001b[2m==1.9.0\u001b[0m\n",
      " \u001b[32m+\u001b[39m \u001b[1mcachetools\u001b[0m\u001b[2m==5.5.2\u001b[0m\n",
      " \u001b[32m+\u001b[39m \u001b[1mcatboost\u001b[0m\u001b[2m==1.2.8\u001b[0m\n",
      " \u001b[32m+\u001b[39m \u001b[1mclick\u001b[0m\u001b[2m==8.2.1\u001b[0m\n",
      " \u001b[32m+\u001b[39m \u001b[1mcloudpickle\u001b[0m\u001b[2m==3.1.1\u001b[0m\n",
      " \u001b[32m+\u001b[39m \u001b[1mcontourpy\u001b[0m\u001b[2m==1.3.2\u001b[0m\n",
      " \u001b[32m+\u001b[39m \u001b[1mcycler\u001b[0m\u001b[2m==0.12.1\u001b[0m\n",
      " \u001b[32m+\u001b[39m \u001b[1mdatabricks-sdk\u001b[0m\u001b[2m==0.59.0\u001b[0m\n",
      " \u001b[32m+\u001b[39m \u001b[1mdill\u001b[0m\u001b[2m==0.4.0\u001b[0m\n",
      " \u001b[32m+\u001b[39m \u001b[1mdocker\u001b[0m\u001b[2m==7.1.0\u001b[0m\n",
      " \u001b[32m+\u001b[39m \u001b[1mfastapi\u001b[0m\u001b[2m==0.116.0\u001b[0m\n",
      " \u001b[32m+\u001b[39m \u001b[1mflask\u001b[0m\u001b[2m==3.1.1\u001b[0m\n",
      " \u001b[32m+\u001b[39m \u001b[1mfonttools\u001b[0m\u001b[2m==4.58.5\u001b[0m\n",
      " \u001b[32m+\u001b[39m \u001b[1mgitdb\u001b[0m\u001b[2m==4.0.12\u001b[0m\n",
      " \u001b[32m+\u001b[39m \u001b[1mgitpython\u001b[0m\u001b[2m==3.1.44\u001b[0m\n",
      " \u001b[32m+\u001b[39m \u001b[1mgoogle-auth\u001b[0m\u001b[2m==2.40.3\u001b[0m\n",
      " \u001b[32m+\u001b[39m \u001b[1mgraphene\u001b[0m\u001b[2m==3.4.3\u001b[0m\n",
      " \u001b[32m+\u001b[39m \u001b[1mgraphql-core\u001b[0m\u001b[2m==3.2.6\u001b[0m\n",
      " \u001b[32m+\u001b[39m \u001b[1mgraphql-relay\u001b[0m\u001b[2m==3.2.0\u001b[0m\n",
      " \u001b[32m+\u001b[39m \u001b[1mgraphviz\u001b[0m\u001b[2m==0.21\u001b[0m\n",
      " \u001b[32m+\u001b[39m \u001b[1mgreenlet\u001b[0m\u001b[2m==3.2.3\u001b[0m\n",
      " \u001b[32m+\u001b[39m \u001b[1mgunicorn\u001b[0m\u001b[2m==23.0.0\u001b[0m\n",
      " \u001b[32m+\u001b[39m \u001b[1mimportlib-metadata\u001b[0m\u001b[2m==8.7.0\u001b[0m\n",
      " \u001b[32m+\u001b[39m \u001b[1miniconfig\u001b[0m\u001b[2m==2.1.0\u001b[0m\n",
      " \u001b[32m+\u001b[39m \u001b[1misort\u001b[0m\u001b[2m==6.0.1\u001b[0m\n",
      " \u001b[32m+\u001b[39m \u001b[1mitsdangerous\u001b[0m\u001b[2m==2.2.0\u001b[0m\n",
      " \u001b[32m+\u001b[39m \u001b[1mjoblib\u001b[0m\u001b[2m==1.5.1\u001b[0m\n",
      " \u001b[32m+\u001b[39m \u001b[1mkiwisolver\u001b[0m\u001b[2m==1.4.8\u001b[0m\n",
      " \u001b[32m+\u001b[39m \u001b[1mloguru\u001b[0m\u001b[2m==0.7.3\u001b[0m\n",
      " \u001b[32m+\u001b[39m \u001b[1mmako\u001b[0m\u001b[2m==1.3.10\u001b[0m\n",
      " \u001b[32m+\u001b[39m \u001b[1mmatplotlib\u001b[0m\u001b[2m==3.10.3\u001b[0m\n",
      " \u001b[32m+\u001b[39m \u001b[1mmccabe\u001b[0m\u001b[2m==0.7.0\u001b[0m\n",
      " \u001b[32m+\u001b[39m \u001b[1mmlflow\u001b[0m\u001b[2m==3.1.1\u001b[0m\n",
      " \u001b[32m+\u001b[39m \u001b[1mmlflow-skinny\u001b[0m\u001b[2m==3.1.1\u001b[0m\n",
      " \u001b[32m+\u001b[39m \u001b[1mmlops\u001b[0m\u001b[2m==0.1.0 (from file:///home/stavros/lab/mlops)\u001b[0m\n",
      " \u001b[32m+\u001b[39m \u001b[1mnarwhals\u001b[0m\u001b[2m==1.47.1\u001b[0m\n",
      " \u001b[32m+\u001b[39m \u001b[1mnumpy\u001b[0m\u001b[2m==2.3.1\u001b[0m\n",
      " \u001b[32m+\u001b[39m \u001b[1mnvidia-ml-py\u001b[0m\u001b[2m==12.575.51\u001b[0m\n",
      " \u001b[32m+\u001b[39m \u001b[1mopentelemetry-api\u001b[0m\u001b[2m==1.35.0\u001b[0m\n",
      " \u001b[32m+\u001b[39m \u001b[1mopentelemetry-sdk\u001b[0m\u001b[2m==1.35.0\u001b[0m\n",
      " \u001b[32m+\u001b[39m \u001b[1mopentelemetry-semantic-conventions\u001b[0m\u001b[2m==0.56b0\u001b[0m\n",
      " \u001b[32m+\u001b[39m \u001b[1mpandas\u001b[0m\u001b[2m==2.3.1\u001b[0m\n",
      " \u001b[32m+\u001b[39m \u001b[1mpillow\u001b[0m\u001b[2m==11.3.0\u001b[0m\n",
      " \u001b[32m+\u001b[39m \u001b[1mplotly\u001b[0m\u001b[2m==6.2.0\u001b[0m\n",
      " \u001b[32m+\u001b[39m \u001b[1mpluggy\u001b[0m\u001b[2m==1.6.0\u001b[0m\n",
      " \u001b[32m+\u001b[39m \u001b[1mprotobuf\u001b[0m\u001b[2m==6.31.1\u001b[0m\n",
      " \u001b[32m+\u001b[39m \u001b[1mpyarrow\u001b[0m\u001b[2m==20.0.0\u001b[0m\n",
      " \u001b[32m+\u001b[39m \u001b[1mpyasn1\u001b[0m\u001b[2m==0.6.1\u001b[0m\n",
      " \u001b[32m+\u001b[39m \u001b[1mpyasn1-modules\u001b[0m\u001b[2m==0.4.2\u001b[0m\n",
      " \u001b[32m+\u001b[39m \u001b[1mpydantic\u001b[0m\u001b[2m==2.11.7\u001b[0m\n",
      " \u001b[32m+\u001b[39m \u001b[1mpydantic-core\u001b[0m\u001b[2m==2.33.2\u001b[0m\n",
      " \u001b[32m+\u001b[39m \u001b[1mpydantic-settings\u001b[0m\u001b[2m==2.10.1\u001b[0m\n",
      " \u001b[32m+\u001b[39m \u001b[1mpylint\u001b[0m\u001b[2m==3.3.7\u001b[0m\n",
      " \u001b[32m+\u001b[39m \u001b[1mpynvml\u001b[0m\u001b[2m==12.0.0\u001b[0m\n",
      " \u001b[32m+\u001b[39m \u001b[1mpyparsing\u001b[0m\u001b[2m==3.2.3\u001b[0m\n",
      " \u001b[32m+\u001b[39m \u001b[1mpytest\u001b[0m\u001b[2m==8.4.1\u001b[0m\n",
      " \u001b[32m+\u001b[39m \u001b[1mpython-dotenv\u001b[0m\u001b[2m==1.1.1\u001b[0m\n",
      " \u001b[32m+\u001b[39m \u001b[1mpytz\u001b[0m\u001b[2m==2025.2\u001b[0m\n",
      " \u001b[32m+\u001b[39m \u001b[1mrsa\u001b[0m\u001b[2m==4.9.1\u001b[0m\n",
      " \u001b[32m+\u001b[39m \u001b[1mruff\u001b[0m\u001b[2m==0.12.3\u001b[0m\n",
      " \u001b[32m+\u001b[39m \u001b[1mscikit-learn\u001b[0m\u001b[2m==1.7.0\u001b[0m\n",
      " \u001b[32m+\u001b[39m \u001b[1mscipy\u001b[0m\u001b[2m==1.16.0\u001b[0m\n",
      " \u001b[32m+\u001b[39m \u001b[1mseaborn\u001b[0m\u001b[2m==0.13.2\u001b[0m\n",
      " \u001b[32m+\u001b[39m \u001b[1msmmap\u001b[0m\u001b[2m==5.0.2\u001b[0m\n",
      " \u001b[32m+\u001b[39m \u001b[1msqlalchemy\u001b[0m\u001b[2m==2.0.41\u001b[0m\n",
      " \u001b[32m+\u001b[39m \u001b[1msqlparse\u001b[0m\u001b[2m==0.5.3\u001b[0m\n",
      " \u001b[32m+\u001b[39m \u001b[1mstarlette\u001b[0m\u001b[2m==0.46.2\u001b[0m\n",
      " \u001b[32m+\u001b[39m \u001b[1mthreadpoolctl\u001b[0m\u001b[2m==3.6.0\u001b[0m\n",
      " \u001b[32m+\u001b[39m \u001b[1mtomlkit\u001b[0m\u001b[2m==0.13.3\u001b[0m\n",
      " \u001b[32m+\u001b[39m \u001b[1mtyping-inspection\u001b[0m\u001b[2m==0.4.1\u001b[0m\n",
      " \u001b[32m+\u001b[39m \u001b[1mtzdata\u001b[0m\u001b[2m==2025.2\u001b[0m\n",
      " \u001b[32m+\u001b[39m \u001b[1muvicorn\u001b[0m\u001b[2m==0.35.0\u001b[0m\n",
      " \u001b[32m+\u001b[39m \u001b[1mwerkzeug\u001b[0m\u001b[2m==3.1.3\u001b[0m\n",
      " \u001b[32m+\u001b[39m \u001b[1mzipp\u001b[0m\u001b[2m==3.23.0\u001b[0m\n"
     ]
    }
   ],
   "source": [
    "!uv add --active --dev numpy pandas matplotlib seaborn scikit-learn catboost mlflow"
   ]
  },
  {
   "cell_type": "code",
   "execution_count": 2,
   "id": "d1c4685f-dc7f-435b-b81d-3ce62b06147b",
   "metadata": {},
   "outputs": [
    {
     "name": "stdout",
     "output_type": "stream",
     "text": [
      "   sepal_length  sepal_width  petal_length  petal_width species\n",
      "0           5.1          3.5           1.4          0.2  setosa\n",
      "1           4.9          3.0           1.4          0.2  setosa\n",
      "2           4.7          3.2           1.3          0.2  setosa\n",
      "3           4.6          3.1           1.5          0.2  setosa\n",
      "4           5.0          3.6           1.4          0.2  setosa\n",
      "<class 'pandas.core.frame.DataFrame'>\n",
      "RangeIndex: 150 entries, 0 to 149\n",
      "Data columns (total 5 columns):\n",
      " #   Column        Non-Null Count  Dtype  \n",
      "---  ------        --------------  -----  \n",
      " 0   sepal_length  150 non-null    float64\n",
      " 1   sepal_width   150 non-null    float64\n",
      " 2   petal_length  150 non-null    float64\n",
      " 3   petal_width   150 non-null    float64\n",
      " 4   species       150 non-null    object \n",
      "dtypes: float64(4), object(1)\n",
      "memory usage: 6.0+ KB\n"
     ]
    },
    {
     "data": {
      "text/plain": [
       "species\n",
       "setosa        50\n",
       "versicolor    50\n",
       "virginica     50\n",
       "Name: count, dtype: int64"
      ]
     },
     "execution_count": 2,
     "metadata": {},
     "output_type": "execute_result"
    }
   ],
   "source": [
    "import pandas as pd\n",
    "\n",
    "df = pd.read_csv(\"../data/iris.csv\")\n",
    "print(df.head())\n",
    "df.info()           # Data types, non-null counts\n",
    "df.describe()       # Summary stats for numeric columns\n",
    "df.describe(include='object')  # For categorical/text columns\n",
    "df.value_counts(\"species\")"
   ]
  },
  {
   "cell_type": "code",
   "execution_count": 3,
   "id": "c1258579-70a6-459c-b400-2ba9ec5a5db7",
   "metadata": {},
   "outputs": [
    {
     "name": "stdout",
     "output_type": "stream",
     "text": [
      "Total duplicate instances: 2\n"
     ]
    },
    {
     "data": {
      "text/html": [
       "<div>\n",
       "<style scoped>\n",
       "    .dataframe tbody tr th:only-of-type {\n",
       "        vertical-align: middle;\n",
       "    }\n",
       "\n",
       "    .dataframe tbody tr th {\n",
       "        vertical-align: top;\n",
       "    }\n",
       "\n",
       "    .dataframe thead th {\n",
       "        text-align: right;\n",
       "    }\n",
       "</style>\n",
       "<table border=\"1\" class=\"dataframe\">\n",
       "  <thead>\n",
       "    <tr style=\"text-align: right;\">\n",
       "      <th></th>\n",
       "      <th>sepal_length</th>\n",
       "      <th>sepal_width</th>\n",
       "      <th>petal_length</th>\n",
       "      <th>petal_width</th>\n",
       "      <th>species</th>\n",
       "    </tr>\n",
       "  </thead>\n",
       "  <tbody>\n",
       "    <tr>\n",
       "      <th>101</th>\n",
       "      <td>5.8</td>\n",
       "      <td>2.7</td>\n",
       "      <td>5.1</td>\n",
       "      <td>1.9</td>\n",
       "      <td>virginica</td>\n",
       "    </tr>\n",
       "    <tr>\n",
       "      <th>142</th>\n",
       "      <td>5.8</td>\n",
       "      <td>2.7</td>\n",
       "      <td>5.1</td>\n",
       "      <td>1.9</td>\n",
       "      <td>virginica</td>\n",
       "    </tr>\n",
       "  </tbody>\n",
       "</table>\n",
       "</div>"
      ],
      "text/plain": [
       "     sepal_length  sepal_width  petal_length  petal_width    species\n",
       "101           5.8          2.7           5.1          1.9  virginica\n",
       "142           5.8          2.7           5.1          1.9  virginica"
      ]
     },
     "metadata": {},
     "output_type": "display_data"
    }
   ],
   "source": [
    "duplicates = df[df.duplicated(keep=False)]\n",
    "print(f\"Total duplicate instances: {len(duplicates)}\")\n",
    "display(duplicates)\n",
    "\n",
    "# Drop duplicate rows (keeping the first occurrence)\n",
    "df = df.drop_duplicates()"
   ]
  },
  {
   "cell_type": "code",
   "execution_count": 4,
   "id": "59ca9b5a-9eba-4f5d-b07d-52bf252eb1a3",
   "metadata": {},
   "outputs": [
    {
     "name": "stdout",
     "output_type": "stream",
     "text": [
      "Empty DataFrame\n",
      "Columns: [Missing Count, Missing %]\n",
      "Index: []\n"
     ]
    }
   ],
   "source": [
    "missing_summary = df.isnull().sum()\n",
    "missing_percent = (missing_summary / len(df)) * 100\n",
    "\n",
    "missing_df = pd.DataFrame({\n",
    "    'Missing Count': missing_summary,\n",
    "    'Missing %': missing_percent\n",
    "}).sort_values(by='Missing %', ascending=False)\n",
    "\n",
    "print(missing_df[missing_df['Missing Count'] > 0])"
   ]
  },
  {
   "cell_type": "markdown",
   "id": "77b44918-5235-48f0-b84c-aa2631863c61",
   "metadata": {},
   "source": [
    "<br>\n",
    "\n",
    "B] **Let's show feature correlation. We only care about numeric features in order to apply Pearson correlation. It is expected that petal length and width are highly correlated.**\n",
    "\n",
    "<br>"
   ]
  },
  {
   "cell_type": "code",
   "execution_count": 5,
   "id": "d6793da0-9183-4ff5-a7b5-e59bd6f505e3",
   "metadata": {},
   "outputs": [
    {
     "data": {
      "image/png": "[encoded data removed]",
      "text/plain": [
       "<Figure size 640x480 with 2 Axes>"
      ]
     },
     "metadata": {},
     "output_type": "display_data"
    }
   ],
   "source": [
    "import matplotlib\n",
    "import matplotlib.pyplot as plt\n",
    "import seaborn as sns\n",
    "\n",
    "sns.heatmap(df.select_dtypes(include=['number']).corr(method='pearson'), annot = True); \n",
    "\n",
    "plt.show()"
   ]
  },
  {
   "cell_type": "code",
   "execution_count": 6,
   "id": "2ce6d361-a0d2-4cc6-94a7-44641104ce3a",
   "metadata": {},
   "outputs": [
    {
     "name": "stdout",
     "output_type": "stream",
     "text": [
      "ANOVA F-scores:\n",
      " petal_length    1176.842427\n",
      "petal_width      950.308977\n",
      "sepal_length     121.615019\n",
      "sepal_width       48.822605\n",
      "dtype: float64\n"
     ]
    }
   ],
   "source": [
    "import matplotlib.pyplot as plt\n",
    "import pandas as pd\n",
    "from sklearn.ensemble import RandomForestClassifier\n",
    "from sklearn.feature_selection import SelectKBest, f_classif\n",
    "\n",
    "# Separate features and target\n",
    "target_col = 'species'  # Replace with the actual name of your target column\n",
    "X = df.drop(columns=[target_col])\n",
    "y = df[target_col]\n",
    "\n",
    "# Encode target if it's still a string\n",
    "if y.dtype == 'object':\n",
    "    y = y.astype('category').cat.codes\n",
    "\n",
    "# 1. ANOVA F-test\n",
    "selector = SelectKBest(score_func=f_classif, k='all')\n",
    "selector.fit(X, y)\n",
    "anova_scores = pd.Series(selector.scores_, index=X.columns).sort_values(ascending=False)\n",
    "print(\"ANOVA F-scores:\\n\", anova_scores)\n"
   ]
  },
  {
   "cell_type": "code",
   "execution_count": 7,
   "id": "917da871-50b5-4050-8833-28c15781f853",
   "metadata": {},
   "outputs": [
    {
     "name": "stdout",
     "output_type": "stream",
     "text": [
      "CatBoost Results:\n",
      "              precision    recall  f1-score   support\n",
      "\n",
      "           0       1.00      1.00      1.00        23\n",
      "           1       1.00      1.00      1.00        19\n",
      "           2       1.00      1.00      1.00        18\n",
      "\n",
      "    accuracy                           1.00        60\n",
      "   macro avg       1.00      1.00      1.00        60\n",
      "weighted avg       1.00      1.00      1.00        60\n",
      "\n",
      "\n",
      "Random Forest Results:\n",
      "              precision    recall  f1-score   support\n",
      "\n",
      "           0       1.00      1.00      1.00        23\n",
      "           1       1.00      1.00      1.00        19\n",
      "           2       1.00      1.00      1.00        18\n",
      "\n",
      "    accuracy                           1.00        60\n",
      "   macro avg       1.00      1.00      1.00        60\n",
      "weighted avg       1.00      1.00      1.00        60\n",
      "\n",
      "CatBoost Accuracy: 1.00\n",
      "Random Forest Accuracy: 1.00\n"
     ]
    }
   ],
   "source": [
    "import pandas as pd\n",
    "from catboost import CatBoostClassifier\n",
    "from sklearn.ensemble import RandomForestClassifier\n",
    "from sklearn.metrics import accuracy_score, classification_report\n",
    "from sklearn.model_selection import train_test_split\n",
    "\n",
    "X = df.drop(columns=['species'])\n",
    "y = df['species'].astype('category').cat.codes\n",
    "\n",
    "# Train/test split\n",
    "X_train, X_test, y_train, y_test = train_test_split(X, y, test_size=0.4, random_state=42)\n",
    "\n",
    "# CatBoost\n",
    "cat_model = CatBoostClassifier(verbose=0)\n",
    "cat_model.fit(X_train, y_train)\n",
    "cat_preds = cat_model.predict(X_test)\n",
    "\n",
    "# Random Forest\n",
    "rf_model = RandomForestClassifier(random_state=43)\n",
    "rf_model.fit(X_train, y_train)\n",
    "rf_preds = rf_model.predict(X_test)\n",
    "\n",
    "# Compare\n",
    "print(\"CatBoost Results:\")\n",
    "print(classification_report(y_test, cat_preds))\n",
    "\n",
    "print(\"\\nRandom Forest Results:\")\n",
    "print(classification_report(y_test, rf_preds))\n",
    "\n",
    "# Accuracy for CatBoost\n",
    "cat_accuracy = accuracy_score(y_test, cat_preds)\n",
    "print(f\"CatBoost Accuracy: {cat_accuracy:.2f}\")\n",
    "\n",
    "# Accuracy for Random Forest\n",
    "rf_accuracy = accuracy_score(y_test, rf_preds)\n",
    "print(f\"Random Forest Accuracy: {rf_accuracy:.2f}\")"
   ]
  },
  {
   "cell_type": "markdown",
   "id": "2dd28592-2c85-4e3d-a846-fa77444c89dc",
   "metadata": {},
   "source": [
    "<br>\n",
    "\n",
    "C] **Let's do some cross-validation. It gives you a reliable estimate of how your model will perform on average on unseen data.\n",
    "On the previous cell we depend on the random_state value and split. Also dump the experiments to Mlflow.**\n",
    "\n",
    "<br>"
   ]
  },
  {
   "cell_type": "code",
   "execution_count": 8,
   "id": "c97ac25a-a1e1-4c7f-9bf3-e39aebd5526c",
   "metadata": {},
   "outputs": [
    {
     "name": "stderr",
     "output_type": "stream",
     "text": [
      "2025/07/19 17:32:59 WARNING mlflow.utils.environment: Failed to resolve installed pip version. ``pip`` will be added to conda.yaml environment spec without a version specifier.\n"
     ]
    },
    {
     "name": "stdout",
     "output_type": "stream",
     "text": [
      "\n",
      "RandomForest\n",
      "Accuracy: 0.947 ± 0.027\n",
      "F1 Macro: 0.946 ± 0.027\n",
      "🏃 View run RandomForest at: http://127.0.0.1:8080/#/experiments/868609974133748254/runs/1a3bc97945e140928614a7372a9aa3c3\n",
      "🧪 View experiment at: http://127.0.0.1:8080/#/experiments/868609974133748254\n"
     ]
    },
    {
     "name": "stderr",
     "output_type": "stream",
     "text": [
      "2025/07/19 17:33:04 WARNING mlflow.utils.environment: Failed to resolve installed pip version. ``pip`` will be added to conda.yaml environment spec without a version specifier.\n"
     ]
    },
    {
     "name": "stdout",
     "output_type": "stream",
     "text": [
      "\n",
      "CatBoost\n",
      "Accuracy: 0.953 ± 0.034\n",
      "F1 Macro: 0.953 ± 0.034\n",
      "🏃 View run CatBoost at: http://127.0.0.1:8080/#/experiments/868609974133748254/runs/2f51bd96b0f1499ba9f8765e122d42c3\n",
      "🧪 View experiment at: http://127.0.0.1:8080/#/experiments/868609974133748254\n"
     ]
    },
    {
     "name": "stderr",
     "output_type": "stream",
     "text": [
      "2025/07/19 17:33:07 WARNING mlflow.utils.environment: Failed to resolve installed pip version. ``pip`` will be added to conda.yaml environment spec without a version specifier.\n"
     ]
    },
    {
     "name": "stdout",
     "output_type": "stream",
     "text": [
      "\n",
      "ANN (MLP)\n",
      "Accuracy: 0.973 ± 0.039\n",
      "F1 Macro: 0.973 ± 0.040\n",
      "🏃 View run ANN (MLP) at: http://127.0.0.1:8080/#/experiments/868609974133748254/runs/f636bfd49926442ca41e8ee52c0a0a80\n",
      "🧪 View experiment at: http://127.0.0.1:8080/#/experiments/868609974133748254\n"
     ]
    }
   ],
   "source": [
    "import mlflow\n",
    "import mlflow.catboost\n",
    "import mlflow.sklearn\n",
    "import numpy as np\n",
    "import pandas as pd\n",
    "from catboost import CatBoostClassifier\n",
    "from mlflow.models.signature import infer_signature\n",
    "from sklearn.ensemble import RandomForestClassifier\n",
    "from sklearn.metrics import accuracy_score, f1_score, make_scorer\n",
    "from sklearn.model_selection import StratifiedKFold, cross_val_score\n",
    "from sklearn.neural_network import MLPClassifier\n",
    "from sklearn.preprocessing import LabelEncoder\n",
    "\n",
    "mlflow.set_tracking_uri(\"http://127.0.0.1:8080\") \n",
    "\n",
    "# Load and clean data\n",
    "df = pd.read_csv(\"../data/iris.csv\")\n",
    "X = df.drop(columns=['species'])\n",
    "y = LabelEncoder().fit_transform(df['species'])\n",
    "\n",
    "# Set up cross-validation\n",
    "cv = StratifiedKFold(n_splits=5, shuffle=True, random_state=42)\n",
    "\n",
    "# Define models\n",
    "models = {\n",
    "    'RandomForest': RandomForestClassifier(random_state=42),\n",
    "    'CatBoost': CatBoostClassifier(verbose=0, random_state=42),\n",
    "    'ANN (MLP)': MLPClassifier(hidden_layer_sizes=(10,), max_iter=2000, random_state=42)\n",
    "}\n",
    "\n",
    "mlflow.set_experiment(\"iris_classification\")\n",
    "\n",
    "# Evaluate each with MLflow tracking\n",
    "for name, model in models.items():\n",
    "    with mlflow.start_run(run_name=name):\n",
    "        # Cross-validation scores\n",
    "        acc_scores = cross_val_score(model, X, y, cv=cv, scoring='accuracy')\n",
    "        f1_scores = cross_val_score(model, X, y, cv=cv, scoring=make_scorer(f1_score, average='macro'))\n",
    "\n",
    "        model.fit(X, y) \n",
    "        input_example = X_train.sample(1)\n",
    "        signature = infer_signature(X_train, model.predict(X_train))\n",
    "\n",
    "        # Log params\n",
    "        mlflow.log_param(\"model\", name)\n",
    "\n",
    "        # Log metrics (mean & std of accuracy and F1)\n",
    "        mlflow.log_metric(\"cv_accuracy_mean\", acc_scores.mean())\n",
    "        mlflow.log_metric(\"cv_accuracy_std\", acc_scores.std())\n",
    "        mlflow.log_metric(\"cv_f1_macro_mean\", f1_scores.mean())\n",
    "        mlflow.log_metric(\"cv_f1_macro_std\", f1_scores.std())\n",
    "\n",
    "        # Optionally, log the model\n",
    "        if name == \"CatBoost\":\n",
    "            mlflow.catboost.log_model(model, name=\"model\", input_example=input_example, signature=signature)\n",
    "        else:\n",
    "            mlflow.sklearn.log_model(model,  name=\"model\", input_example=input_example, signature=signature)\n",
    "\n",
    "        print(f\"\\n{name}\")\n",
    "        print(f\"Accuracy: {acc_scores.mean():.3f} ± {acc_scores.std():.3f}\")\n",
    "        print(f\"F1 Macro: {f1_scores.mean():.3f} ± {f1_scores.std():.3f}\")\n"
   ]
  },
  {
   "cell_type": "markdown",
   "id": "6e69f78f-d746-4ea3-a8b0-dc253c679cb2",
   "metadata": {},
   "source": [
    "<br>\n",
    "\n",
    "D] **Pick the last model that was logged and score it as a smoke test**\n",
    "\n",
    "<br>"
   ]
  },
  {
   "cell_type": "code",
   "execution_count": 9,
   "id": "295df584-e03d-46f5-a8fa-cbb1cf8ce998",
   "metadata": {},
   "outputs": [
    {
     "name": "stdout",
     "output_type": "stream",
     "text": [
      "f636bfd49926442ca41e8ee52c0a0a80\n",
      "runs:/f636bfd49926442ca41e8ee52c0a0a80/model\n"
     ]
    },
    {
     "data": {
      "application/vnd.jupyter.widget-view+json": {
       "model_id": "f6b08365ed81490c923eb2f78eaceaf6",
       "version_major": 2,
       "version_minor": 0
      },
      "text/plain": [
       "Downloading artifacts:   0%|          | 0/1 [00:00<?, ?it/s]"
      ]
     },
     "metadata": {},
     "output_type": "display_data"
    },
    {
     "data": {
      "application/vnd.jupyter.widget-view+json": {
       "model_id": "466091061b0f48a7933fda9a240d4a12",
       "version_major": 2,
       "version_minor": 0
      },
      "text/plain": [
       "Downloading artifacts:   0%|          | 0/7 [00:00<?, ?it/s]"
      ]
     },
     "metadata": {},
     "output_type": "display_data"
    },
    {
     "name": "stdout",
     "output_type": "stream",
     "text": [
      "Predicted class index: 0\n",
      "Predicted species: setosa\n"
     ]
    }
   ],
   "source": [
    "import mlflow\n",
    "from mlflow.tracking import MlflowClient\n",
    "\n",
    "mlflow.set_tracking_uri(\"http://127.0.0.1:8080\")  # Set if remote\n",
    "\n",
    "experiment_name = \"iris_classification\"\n",
    "client = MlflowClient()\n",
    "experiment = client.get_experiment_by_name(experiment_name)\n",
    "\n",
    "# Get latest successful run\n",
    "runs = client.search_runs(\n",
    "    experiment_ids=[experiment.experiment_id],\n",
    "    order_by=[\"start_time DESC\"],\n",
    "    max_results=1\n",
    ")\n",
    "\n",
    "latest_run_id = runs[0].info.run_id\n",
    "print(latest_run_id)\n",
    "\n",
    "model_uri = f\"runs:/{latest_run_id}/model\"\n",
    "print(model_uri)\n",
    "# Load the model\n",
    "model = mlflow.sklearn.load_model(model_uri)\n",
    "\n",
    "# Use the same column names as training\n",
    "columns = [\"sepal_length\", \"sepal_width\", \"petal_length\", \"petal_width\"]\n",
    "\n",
    "# Example row (you can replace with any realistic values)\n",
    "input_data = pd.DataFrame([[5.1, 3.5, 1.4, 0.2]], columns=columns)\n",
    "\n",
    "from sklearn.preprocessing import LabelEncoder\n",
    "\n",
    "prediction = model.predict(input_data)[0]\n",
    "print(\"Predicted class index:\", prediction)\n",
    "# Load or re-fit the encoder with your original labels\n",
    "encoder = LabelEncoder()\n",
    "encoder.fit([\"setosa\", \"versicolor\", \"virginica\"])\n",
    "\n",
    "print(\"Predicted species:\", encoder.inverse_transform([prediction])[0])"
   ]
  }
 ],
 "metadata": {
  "kernelspec": {
   "display_name": "Python 3 (ipykernel)",
   "language": "python",
   "name": "python3"
  },
  "language_info": {
   "codemirror_mode": {
    "name": "ipython",
    "version": 3
   },
   "file_extension": ".py",
   "mimetype": "text/x-python",
   "name": "python",
   "nbconvert_exporter": "python",
   "pygments_lexer": "ipython3",
   "version": "3.13.3"
  }
 },
 "nbformat": 4,
 "nbformat_minor": 5
}
